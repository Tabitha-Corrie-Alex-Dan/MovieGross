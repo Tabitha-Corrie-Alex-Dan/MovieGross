{
 "cells": [
  {
   "cell_type": "code",
   "execution_count": 1,
   "metadata": {},
   "outputs": [],
   "source": [
    "import pandas as pd\n",
    "import json\n",
    "import pymongo\n",
    "import numpy as np\n",
    "from flask import Flask, jsonify, request\n",
    "from flask_pymongo import PyMongo"
   ]
  },
  {
   "cell_type": "code",
   "execution_count": 2,
   "metadata": {},
   "outputs": [],
   "source": [
    "# https://docs.mongodb.com/manual/reference/default-mongodb-port/\n",
    "conn = 'mongodb://localhost:27017'\n",
    "client = pymongo.MongoClient(conn)\n",
    "\n",
    "\n",
    "# Define the 'imdb_DB' database in Mongo\n",
    "db = client.imdb_DB"
   ]
  },
  {
   "cell_type": "code",
   "execution_count": 3,
   "metadata": {},
   "outputs": [],
   "source": [
    "year = ['2000','2001','2002','2003','2004','2005','2006','2007','2008','2009','2010','2011','2012','2013','2014','2015','2016', '2017', '2018', '2019', '2020', '2021']\n",
    "season = [\"Spring\",\"Summer\",\"Fall\",\"Winter\"]\n",
    "\n",
    "years = len(year)\n"
   ]
  },
  {
   "cell_type": "code",
   "execution_count": 4,
   "metadata": {},
   "outputs": [],
   "source": [
    "imdb = []"
   ]
  },
  {
   "cell_type": "code",
   "execution_count": 5,
   "metadata": {},
   "outputs": [],
   "source": [
    "i=0\n",
    "\n",
    "\n",
    "for y in year:\n",
    "    i = i+1\n",
    "    url = 'https://www.boxofficemojo.com/season/by-year/'+y+'/?grossesOption=calendarGrosses'\n",
    "    imdb.append(pd.read_html(url))\n",
    "#     print(imdb)"
   ]
  },
  {
   "cell_type": "code",
   "execution_count": 6,
   "metadata": {},
   "outputs": [],
   "source": [
    "# imdb_df = pd.DataFrame()\n",
    "\n",
    "for i in range(1,22):\n",
    "    imdb[i] = imdb[i][0].assign(Year=year[i])"
   ]
  },
  {
   "cell_type": "code",
   "execution_count": 7,
   "metadata": {},
   "outputs": [],
   "source": [
    "movies = []\n",
    "for i in range(1,22):\n",
    "    movies.append(imdb[i])\n",
    "\n",
    "\n",
    "imdb_df = pd.concat(movies)\n",
    "imdb_df.reset_index(inplace=True)    \n",
    "imdb_df.rename(columns={'index':'index', 'Season':'season', 'Cumulative Gross':'cum_gross', '% of Year':'pct_of_year', 'Releases':'releases',\n",
    "       'Average':'average', '#1 Release':'num_one_release', 'Genre':'genre', 'Budget':'budget', 'Running Time':'runtime', 'Gross':'gross',\n",
    "       '% of Total':'pct_of_total', 'Year':'year'}, inplace=True)"
   ]
  },
  {
   "cell_type": "code",
   "execution_count": 8,
   "metadata": {
    "scrolled": true
   },
   "outputs": [
    {
     "output_type": "execute_result",
     "data": {
      "text/plain": [
       "    index          season       cum_gross pct_of_year  releases      average  \\\n",
       "0       0  Holiday Season  $1,738,682,033       21.4%       134  $12,975,239   \n",
       "1       1            Fall    $801,380,716        9.9%       123   $6,515,290   \n",
       "2       2          Summer  $3,355,826,181       41.4%       185  $18,139,600   \n",
       "3       3          Spring  $1,014,897,662       12.5%       124   $8,184,658   \n",
       "4       4          Winter  $1,205,276,250       14.9%       108  $11,159,965   \n",
       "5       0  Holiday Season  $1,884,610,262       20.6%       258   $7,304,690   \n",
       "6       1            Fall    $975,385,806       10.6%       256   $3,810,100   \n",
       "7       2          Summer  $3,734,328,057       40.7%       287  $13,011,596   \n",
       "8       3          Spring  $1,328,789,651       14.5%       134   $9,916,340   \n",
       "9       4          Winter  $1,233,942,113       13.5%       112  $11,017,340   \n",
       "10      0  Holiday Season  $1,703,043,868       18.5%       237   $7,185,839   \n",
       "11      1            Fall  $1,206,558,575       13.1%       264   $4,570,297   \n",
       "12      2          Summer  $3,805,371,890       41.3%       356  $10,689,246   \n",
       "13      3          Spring  $1,077,842,864       11.7%       231   $4,665,986   \n",
       "14      4          Winter  $1,394,186,085       15.1%       227   $6,141,788   \n",
       "15      0  Holiday Season  $1,777,761,628         19%       232   $7,662,765   \n",
       "16      1            Fall    $972,445,442       10.4%       243   $4,001,833   \n",
       "17      2          Summer  $3,900,750,166       41.7%       361  $10,805,402   \n",
       "18      3          Spring  $1,397,820,769       14.9%       235   $5,948,173   \n",
       "19      4          Winter  $1,410,917,542       15.1%       221   $6,384,242   \n",
       "20      0  Holiday Season  $1,859,715,946         21%       236   $7,880,152   \n",
       "21      1            Fall    $964,632,726       10.9%       249   $3,874,027   \n",
       "22      2          Summer  $3,548,624,855       40.2%       338  $10,498,890   \n",
       "23      3          Spring  $1,201,734,803       13.6%       235   $5,113,765   \n",
       "24      4          Winter  $1,257,197,005       14.2%       193   $6,513,974   \n",
       "25      0  Holiday Season  $1,811,536,356       19.7%       246   $7,363,968   \n",
       "26      1            Fall  $1,008,362,575         11%       247   $4,082,439   \n",
       "27      2          Summer  $3,769,272,589       40.9%       331  $11,387,530   \n",
       "28      3          Spring  $1,315,784,734       14.3%       258   $5,099,940   \n",
       "29      4          Winter  $1,274,579,280       13.8%       204   $6,247,937   \n",
       "30      0  Holiday Season  $1,828,892,856       18.9%       242   $7,557,408   \n",
       "31      1            Fall    $956,320,683        9.9%       257   $3,721,092   \n",
       "32      2          Summer  $4,185,798,758       43.3%       352  $11,891,473   \n",
       "33      3          Spring  $1,414,003,686       14.6%       241   $5,867,235   \n",
       "34      4          Winter  $1,261,241,362       13.1%       193   $6,534,929   \n",
       "35      0  Holiday Season  $1,656,471,144       17.2%       217   $7,633,507   \n",
       "36      1            Fall  $1,159,127,393         12%       265   $4,374,065   \n",
       "37      2          Summer  $4,150,154,413       43.1%       350  $11,857,584   \n",
       "38      3          Spring  $1,093,528,925       11.4%       237   $4,614,046   \n",
       "39      4          Winter  $1,531,520,035       15.9%       205   $7,470,829   \n",
       "40      0  Holiday Season  $2,283,063,082       21.6%       214  $10,668,519   \n",
       "41      1            Fall  $1,121,016,865       10.6%       231   $4,852,886   \n",
       "42      2          Summer  $4,349,311,966       41.1%       308  $14,121,142   \n",
       "43      3          Spring  $1,284,430,292       12.1%       206   $6,235,098   \n",
       "44      4          Winter  $1,779,967,719       16.8%       177  $10,056,314   \n",
       "45      0  Holiday Season  $1,916,622,857       18.1%       216   $8,873,253   \n",
       "46      1            Fall  $1,093,815,175       10.4%       248   $4,410,545   \n",
       "47      2          Summer  $4,236,123,773       40.1%       320  $13,237,886   \n",
       "48      3          Spring  $1,637,629,395       15.5%       219   $7,477,759   \n",
       "49      4          Winter  $1,562,819,621       14.8%       175   $8,930,397   \n",
       "\n",
       "                                  num_one_release genre budget runtime  \\\n",
       "0           Harry Potter and the Sorcerer's Stone     -      -       -   \n",
       "1                                    Training Day     -      -       -   \n",
       "2                                           Shrek     -      -       -   \n",
       "3                                        Spy Kids     -      -       -   \n",
       "4                                        Hannibal     -      -       -   \n",
       "5         Harry Potter and the Chamber of Secrets     -      -       -   \n",
       "6                              Sweet Home Alabama     -      -       -   \n",
       "7                                      Spider-Man     -      -       -   \n",
       "8                                         Ice Age     -      -       -   \n",
       "9                                A Beautiful Mind     -      -       -   \n",
       "10  The Lord of the Rings: The Return of the King     -      -       -   \n",
       "11                                  Scary Movie 3     -      -       -   \n",
       "12                                   Finding Nemo     -      -       -   \n",
       "13                        Bringing Down the House     -      -       -   \n",
       "14                                        Chicago     -      -       -   \n",
       "15                                The Incredibles     -      -       -   \n",
       "16                                     Shark Tale     -      -       -   \n",
       "17                                        Shrek 2     -      -       -   \n",
       "18                      The Passion of the Christ     -      -       -   \n",
       "19                      The Passion of the Christ     -      -       -   \n",
       "20            Harry Potter and the Goblet of Fire     -      -       -   \n",
       "21                                     Flightplan     -      -       -   \n",
       "22   Star Wars: Episode III - Revenge of the Sith     -      -       -   \n",
       "23                                         Robots     -      -       -   \n",
       "24                                          Hitch     -      -       -   \n",
       "25                                     Happy Feet     -      -       -   \n",
       "26                                   The Departed     -      -       -   \n",
       "27     Pirates of the Caribbean: Dead Man's Chest     -      -       -   \n",
       "28                          Ice Age: The Meltdown     -      -       -   \n",
       "29                            Big Momma's House 2     -      -       -   \n",
       "30                                    I Am Legend     -      -       -   \n",
       "31                                  The Game Plan     -      -       -   \n",
       "32                                   Spider-Man 3     -      -       -   \n",
       "33                                            300     -      -       -   \n",
       "34                            Night at the Museum     -      -       -   \n",
       "35                    Madagascar: Escape 2 Africa     -      -       -   \n",
       "36                                      Eagle Eye     -      -       -   \n",
       "37                                The Dark Knight     -      -       -   \n",
       "38                            Horton Hears a Who!     -      -       -   \n",
       "39                                           Juno     -      -       -   \n",
       "40                                         Avatar     -      -       -   \n",
       "41              Cloudy with a Chance of Meatballs     -      -       -   \n",
       "42            Transformers: Revenge of the Fallen     -      -       -   \n",
       "43                            Monsters vs. Aliens     -      -       -   \n",
       "44                                    Gran Torino     -      -       -   \n",
       "45   Harry Potter and the Deathly Hallows: Part 1     -      -       -   \n",
       "46                                     Jackass 3D     -      -       -   \n",
       "47                                    Toy Story 3     -      -       -   \n",
       "48                            Alice in Wonderland     -      -       -   \n",
       "49                                         Avatar     -      -       -   \n",
       "\n",
       "           gross pct_of_total  year  \n",
       "0   $294,474,009        16.9%  2001  \n",
       "1    $66,517,276         8.3%  2001  \n",
       "2   $263,046,762         7.8%  2001  \n",
       "3    $94,595,820         9.3%  2001  \n",
       "4   $132,732,653          11%  2001  \n",
       "5   $247,444,556        13.1%  2002  \n",
       "6   $108,848,902        11.2%  2002  \n",
       "7   $403,706,375        10.8%  2002  \n",
       "8   $166,661,016        12.5%  2002  \n",
       "9   $113,067,515         9.2%  2002  \n",
       "10  $262,230,583        15.4%  2003  \n",
       "11   $82,245,000         6.8%  2003  \n",
       "12  $333,039,240         8.8%  2003  \n",
       "13  $126,506,416        11.7%  2003  \n",
       "14  $103,286,118         7.4%  2003  \n",
       "15  $252,680,838        14.2%  2004  \n",
       "16  $149,476,085        15.4%  2004  \n",
       "17  $438,477,864        11.2%  2004  \n",
       "18  $206,599,940        14.8%  2004  \n",
       "19  $160,641,939        11.4%  2004  \n",
       "20  $278,658,114          15%  2005  \n",
       "21   $82,122,541         8.5%  2005  \n",
       "22  $379,853,511        10.7%  2005  \n",
       "23  $123,650,010        10.3%  2005  \n",
       "24  $125,886,174          10%  2005  \n",
       "25  $181,409,720          10%  2006  \n",
       "26   $94,281,666         9.3%  2006  \n",
       "27  $414,596,572          11%  2006  \n",
       "28  $179,274,213        13.6%  2006  \n",
       "29   $66,180,298         5.2%  2006  \n",
       "30  $212,338,204        11.6%  2007  \n",
       "31   $78,103,609         8.2%  2007  \n",
       "32  $336,530,303           8%  2007  \n",
       "33  $207,451,729        14.7%  2007  \n",
       "34  $101,976,715         8.1%  2007  \n",
       "35  $176,058,413        10.6%  2008  \n",
       "36   $93,807,227         8.1%  2008  \n",
       "37  $506,482,539        12.2%  2008  \n",
       "38  $148,480,118        13.6%  2008  \n",
       "39  $100,162,309         6.5%  2008  \n",
       "40  $380,540,297        16.7%  2009  \n",
       "41  $119,710,831        10.7%  2009  \n",
       "42  $400,757,235         9.2%  2009  \n",
       "43  $176,604,542        13.7%  2009  \n",
       "44  $132,691,854         7.5%  2009  \n",
       "45  $285,308,372        14.9%  2010  \n",
       "46  $105,717,075         9.7%  2010  \n",
       "47  $409,214,041         9.7%  2010  \n",
       "48  $330,145,228        20.2%  2010  \n",
       "49  $331,949,045        21.2%  2010  "
      ],
      "text/html": "<div>\n<style scoped>\n    .dataframe tbody tr th:only-of-type {\n        vertical-align: middle;\n    }\n\n    .dataframe tbody tr th {\n        vertical-align: top;\n    }\n\n    .dataframe thead th {\n        text-align: right;\n    }\n</style>\n<table border=\"1\" class=\"dataframe\">\n  <thead>\n    <tr style=\"text-align: right;\">\n      <th></th>\n      <th>index</th>\n      <th>season</th>\n      <th>cum_gross</th>\n      <th>pct_of_year</th>\n      <th>releases</th>\n      <th>average</th>\n      <th>num_one_release</th>\n      <th>genre</th>\n      <th>budget</th>\n      <th>runtime</th>\n      <th>gross</th>\n      <th>pct_of_total</th>\n      <th>year</th>\n    </tr>\n  </thead>\n  <tbody>\n    <tr>\n      <th>0</th>\n      <td>0</td>\n      <td>Holiday Season</td>\n      <td>$1,738,682,033</td>\n      <td>21.4%</td>\n      <td>134</td>\n      <td>$12,975,239</td>\n      <td>Harry Potter and the Sorcerer's Stone</td>\n      <td>-</td>\n      <td>-</td>\n      <td>-</td>\n      <td>$294,474,009</td>\n      <td>16.9%</td>\n      <td>2001</td>\n    </tr>\n    <tr>\n      <th>1</th>\n      <td>1</td>\n      <td>Fall</td>\n      <td>$801,380,716</td>\n      <td>9.9%</td>\n      <td>123</td>\n      <td>$6,515,290</td>\n      <td>Training Day</td>\n      <td>-</td>\n      <td>-</td>\n      <td>-</td>\n      <td>$66,517,276</td>\n      <td>8.3%</td>\n      <td>2001</td>\n    </tr>\n    <tr>\n      <th>2</th>\n      <td>2</td>\n      <td>Summer</td>\n      <td>$3,355,826,181</td>\n      <td>41.4%</td>\n      <td>185</td>\n      <td>$18,139,600</td>\n      <td>Shrek</td>\n      <td>-</td>\n      <td>-</td>\n      <td>-</td>\n      <td>$263,046,762</td>\n      <td>7.8%</td>\n      <td>2001</td>\n    </tr>\n    <tr>\n      <th>3</th>\n      <td>3</td>\n      <td>Spring</td>\n      <td>$1,014,897,662</td>\n      <td>12.5%</td>\n      <td>124</td>\n      <td>$8,184,658</td>\n      <td>Spy Kids</td>\n      <td>-</td>\n      <td>-</td>\n      <td>-</td>\n      <td>$94,595,820</td>\n      <td>9.3%</td>\n      <td>2001</td>\n    </tr>\n    <tr>\n      <th>4</th>\n      <td>4</td>\n      <td>Winter</td>\n      <td>$1,205,276,250</td>\n      <td>14.9%</td>\n      <td>108</td>\n      <td>$11,159,965</td>\n      <td>Hannibal</td>\n      <td>-</td>\n      <td>-</td>\n      <td>-</td>\n      <td>$132,732,653</td>\n      <td>11%</td>\n      <td>2001</td>\n    </tr>\n    <tr>\n      <th>5</th>\n      <td>0</td>\n      <td>Holiday Season</td>\n      <td>$1,884,610,262</td>\n      <td>20.6%</td>\n      <td>258</td>\n      <td>$7,304,690</td>\n      <td>Harry Potter and the Chamber of Secrets</td>\n      <td>-</td>\n      <td>-</td>\n      <td>-</td>\n      <td>$247,444,556</td>\n      <td>13.1%</td>\n      <td>2002</td>\n    </tr>\n    <tr>\n      <th>6</th>\n      <td>1</td>\n      <td>Fall</td>\n      <td>$975,385,806</td>\n      <td>10.6%</td>\n      <td>256</td>\n      <td>$3,810,100</td>\n      <td>Sweet Home Alabama</td>\n      <td>-</td>\n      <td>-</td>\n      <td>-</td>\n      <td>$108,848,902</td>\n      <td>11.2%</td>\n      <td>2002</td>\n    </tr>\n    <tr>\n      <th>7</th>\n      <td>2</td>\n      <td>Summer</td>\n      <td>$3,734,328,057</td>\n      <td>40.7%</td>\n      <td>287</td>\n      <td>$13,011,596</td>\n      <td>Spider-Man</td>\n      <td>-</td>\n      <td>-</td>\n      <td>-</td>\n      <td>$403,706,375</td>\n      <td>10.8%</td>\n      <td>2002</td>\n    </tr>\n    <tr>\n      <th>8</th>\n      <td>3</td>\n      <td>Spring</td>\n      <td>$1,328,789,651</td>\n      <td>14.5%</td>\n      <td>134</td>\n      <td>$9,916,340</td>\n      <td>Ice Age</td>\n      <td>-</td>\n      <td>-</td>\n      <td>-</td>\n      <td>$166,661,016</td>\n      <td>12.5%</td>\n      <td>2002</td>\n    </tr>\n    <tr>\n      <th>9</th>\n      <td>4</td>\n      <td>Winter</td>\n      <td>$1,233,942,113</td>\n      <td>13.5%</td>\n      <td>112</td>\n      <td>$11,017,340</td>\n      <td>A Beautiful Mind</td>\n      <td>-</td>\n      <td>-</td>\n      <td>-</td>\n      <td>$113,067,515</td>\n      <td>9.2%</td>\n      <td>2002</td>\n    </tr>\n    <tr>\n      <th>10</th>\n      <td>0</td>\n      <td>Holiday Season</td>\n      <td>$1,703,043,868</td>\n      <td>18.5%</td>\n      <td>237</td>\n      <td>$7,185,839</td>\n      <td>The Lord of the Rings: The Return of the King</td>\n      <td>-</td>\n      <td>-</td>\n      <td>-</td>\n      <td>$262,230,583</td>\n      <td>15.4%</td>\n      <td>2003</td>\n    </tr>\n    <tr>\n      <th>11</th>\n      <td>1</td>\n      <td>Fall</td>\n      <td>$1,206,558,575</td>\n      <td>13.1%</td>\n      <td>264</td>\n      <td>$4,570,297</td>\n      <td>Scary Movie 3</td>\n      <td>-</td>\n      <td>-</td>\n      <td>-</td>\n      <td>$82,245,000</td>\n      <td>6.8%</td>\n      <td>2003</td>\n    </tr>\n    <tr>\n      <th>12</th>\n      <td>2</td>\n      <td>Summer</td>\n      <td>$3,805,371,890</td>\n      <td>41.3%</td>\n      <td>356</td>\n      <td>$10,689,246</td>\n      <td>Finding Nemo</td>\n      <td>-</td>\n      <td>-</td>\n      <td>-</td>\n      <td>$333,039,240</td>\n      <td>8.8%</td>\n      <td>2003</td>\n    </tr>\n    <tr>\n      <th>13</th>\n      <td>3</td>\n      <td>Spring</td>\n      <td>$1,077,842,864</td>\n      <td>11.7%</td>\n      <td>231</td>\n      <td>$4,665,986</td>\n      <td>Bringing Down the House</td>\n      <td>-</td>\n      <td>-</td>\n      <td>-</td>\n      <td>$126,506,416</td>\n      <td>11.7%</td>\n      <td>2003</td>\n    </tr>\n    <tr>\n      <th>14</th>\n      <td>4</td>\n      <td>Winter</td>\n      <td>$1,394,186,085</td>\n      <td>15.1%</td>\n      <td>227</td>\n      <td>$6,141,788</td>\n      <td>Chicago</td>\n      <td>-</td>\n      <td>-</td>\n      <td>-</td>\n      <td>$103,286,118</td>\n      <td>7.4%</td>\n      <td>2003</td>\n    </tr>\n    <tr>\n      <th>15</th>\n      <td>0</td>\n      <td>Holiday Season</td>\n      <td>$1,777,761,628</td>\n      <td>19%</td>\n      <td>232</td>\n      <td>$7,662,765</td>\n      <td>The Incredibles</td>\n      <td>-</td>\n      <td>-</td>\n      <td>-</td>\n      <td>$252,680,838</td>\n      <td>14.2%</td>\n      <td>2004</td>\n    </tr>\n    <tr>\n      <th>16</th>\n      <td>1</td>\n      <td>Fall</td>\n      <td>$972,445,442</td>\n      <td>10.4%</td>\n      <td>243</td>\n      <td>$4,001,833</td>\n      <td>Shark Tale</td>\n      <td>-</td>\n      <td>-</td>\n      <td>-</td>\n      <td>$149,476,085</td>\n      <td>15.4%</td>\n      <td>2004</td>\n    </tr>\n    <tr>\n      <th>17</th>\n      <td>2</td>\n      <td>Summer</td>\n      <td>$3,900,750,166</td>\n      <td>41.7%</td>\n      <td>361</td>\n      <td>$10,805,402</td>\n      <td>Shrek 2</td>\n      <td>-</td>\n      <td>-</td>\n      <td>-</td>\n      <td>$438,477,864</td>\n      <td>11.2%</td>\n      <td>2004</td>\n    </tr>\n    <tr>\n      <th>18</th>\n      <td>3</td>\n      <td>Spring</td>\n      <td>$1,397,820,769</td>\n      <td>14.9%</td>\n      <td>235</td>\n      <td>$5,948,173</td>\n      <td>The Passion of the Christ</td>\n      <td>-</td>\n      <td>-</td>\n      <td>-</td>\n      <td>$206,599,940</td>\n      <td>14.8%</td>\n      <td>2004</td>\n    </tr>\n    <tr>\n      <th>19</th>\n      <td>4</td>\n      <td>Winter</td>\n      <td>$1,410,917,542</td>\n      <td>15.1%</td>\n      <td>221</td>\n      <td>$6,384,242</td>\n      <td>The Passion of the Christ</td>\n      <td>-</td>\n      <td>-</td>\n      <td>-</td>\n      <td>$160,641,939</td>\n      <td>11.4%</td>\n      <td>2004</td>\n    </tr>\n    <tr>\n      <th>20</th>\n      <td>0</td>\n      <td>Holiday Season</td>\n      <td>$1,859,715,946</td>\n      <td>21%</td>\n      <td>236</td>\n      <td>$7,880,152</td>\n      <td>Harry Potter and the Goblet of Fire</td>\n      <td>-</td>\n      <td>-</td>\n      <td>-</td>\n      <td>$278,658,114</td>\n      <td>15%</td>\n      <td>2005</td>\n    </tr>\n    <tr>\n      <th>21</th>\n      <td>1</td>\n      <td>Fall</td>\n      <td>$964,632,726</td>\n      <td>10.9%</td>\n      <td>249</td>\n      <td>$3,874,027</td>\n      <td>Flightplan</td>\n      <td>-</td>\n      <td>-</td>\n      <td>-</td>\n      <td>$82,122,541</td>\n      <td>8.5%</td>\n      <td>2005</td>\n    </tr>\n    <tr>\n      <th>22</th>\n      <td>2</td>\n      <td>Summer</td>\n      <td>$3,548,624,855</td>\n      <td>40.2%</td>\n      <td>338</td>\n      <td>$10,498,890</td>\n      <td>Star Wars: Episode III - Revenge of the Sith</td>\n      <td>-</td>\n      <td>-</td>\n      <td>-</td>\n      <td>$379,853,511</td>\n      <td>10.7%</td>\n      <td>2005</td>\n    </tr>\n    <tr>\n      <th>23</th>\n      <td>3</td>\n      <td>Spring</td>\n      <td>$1,201,734,803</td>\n      <td>13.6%</td>\n      <td>235</td>\n      <td>$5,113,765</td>\n      <td>Robots</td>\n      <td>-</td>\n      <td>-</td>\n      <td>-</td>\n      <td>$123,650,010</td>\n      <td>10.3%</td>\n      <td>2005</td>\n    </tr>\n    <tr>\n      <th>24</th>\n      <td>4</td>\n      <td>Winter</td>\n      <td>$1,257,197,005</td>\n      <td>14.2%</td>\n      <td>193</td>\n      <td>$6,513,974</td>\n      <td>Hitch</td>\n      <td>-</td>\n      <td>-</td>\n      <td>-</td>\n      <td>$125,886,174</td>\n      <td>10%</td>\n      <td>2005</td>\n    </tr>\n    <tr>\n      <th>25</th>\n      <td>0</td>\n      <td>Holiday Season</td>\n      <td>$1,811,536,356</td>\n      <td>19.7%</td>\n      <td>246</td>\n      <td>$7,363,968</td>\n      <td>Happy Feet</td>\n      <td>-</td>\n      <td>-</td>\n      <td>-</td>\n      <td>$181,409,720</td>\n      <td>10%</td>\n      <td>2006</td>\n    </tr>\n    <tr>\n      <th>26</th>\n      <td>1</td>\n      <td>Fall</td>\n      <td>$1,008,362,575</td>\n      <td>11%</td>\n      <td>247</td>\n      <td>$4,082,439</td>\n      <td>The Departed</td>\n      <td>-</td>\n      <td>-</td>\n      <td>-</td>\n      <td>$94,281,666</td>\n      <td>9.3%</td>\n      <td>2006</td>\n    </tr>\n    <tr>\n      <th>27</th>\n      <td>2</td>\n      <td>Summer</td>\n      <td>$3,769,272,589</td>\n      <td>40.9%</td>\n      <td>331</td>\n      <td>$11,387,530</td>\n      <td>Pirates of the Caribbean: Dead Man's Chest</td>\n      <td>-</td>\n      <td>-</td>\n      <td>-</td>\n      <td>$414,596,572</td>\n      <td>11%</td>\n      <td>2006</td>\n    </tr>\n    <tr>\n      <th>28</th>\n      <td>3</td>\n      <td>Spring</td>\n      <td>$1,315,784,734</td>\n      <td>14.3%</td>\n      <td>258</td>\n      <td>$5,099,940</td>\n      <td>Ice Age: The Meltdown</td>\n      <td>-</td>\n      <td>-</td>\n      <td>-</td>\n      <td>$179,274,213</td>\n      <td>13.6%</td>\n      <td>2006</td>\n    </tr>\n    <tr>\n      <th>29</th>\n      <td>4</td>\n      <td>Winter</td>\n      <td>$1,274,579,280</td>\n      <td>13.8%</td>\n      <td>204</td>\n      <td>$6,247,937</td>\n      <td>Big Momma's House 2</td>\n      <td>-</td>\n      <td>-</td>\n      <td>-</td>\n      <td>$66,180,298</td>\n      <td>5.2%</td>\n      <td>2006</td>\n    </tr>\n    <tr>\n      <th>30</th>\n      <td>0</td>\n      <td>Holiday Season</td>\n      <td>$1,828,892,856</td>\n      <td>18.9%</td>\n      <td>242</td>\n      <td>$7,557,408</td>\n      <td>I Am Legend</td>\n      <td>-</td>\n      <td>-</td>\n      <td>-</td>\n      <td>$212,338,204</td>\n      <td>11.6%</td>\n      <td>2007</td>\n    </tr>\n    <tr>\n      <th>31</th>\n      <td>1</td>\n      <td>Fall</td>\n      <td>$956,320,683</td>\n      <td>9.9%</td>\n      <td>257</td>\n      <td>$3,721,092</td>\n      <td>The Game Plan</td>\n      <td>-</td>\n      <td>-</td>\n      <td>-</td>\n      <td>$78,103,609</td>\n      <td>8.2%</td>\n      <td>2007</td>\n    </tr>\n    <tr>\n      <th>32</th>\n      <td>2</td>\n      <td>Summer</td>\n      <td>$4,185,798,758</td>\n      <td>43.3%</td>\n      <td>352</td>\n      <td>$11,891,473</td>\n      <td>Spider-Man 3</td>\n      <td>-</td>\n      <td>-</td>\n      <td>-</td>\n      <td>$336,530,303</td>\n      <td>8%</td>\n      <td>2007</td>\n    </tr>\n    <tr>\n      <th>33</th>\n      <td>3</td>\n      <td>Spring</td>\n      <td>$1,414,003,686</td>\n      <td>14.6%</td>\n      <td>241</td>\n      <td>$5,867,235</td>\n      <td>300</td>\n      <td>-</td>\n      <td>-</td>\n      <td>-</td>\n      <td>$207,451,729</td>\n      <td>14.7%</td>\n      <td>2007</td>\n    </tr>\n    <tr>\n      <th>34</th>\n      <td>4</td>\n      <td>Winter</td>\n      <td>$1,261,241,362</td>\n      <td>13.1%</td>\n      <td>193</td>\n      <td>$6,534,929</td>\n      <td>Night at the Museum</td>\n      <td>-</td>\n      <td>-</td>\n      <td>-</td>\n      <td>$101,976,715</td>\n      <td>8.1%</td>\n      <td>2007</td>\n    </tr>\n    <tr>\n      <th>35</th>\n      <td>0</td>\n      <td>Holiday Season</td>\n      <td>$1,656,471,144</td>\n      <td>17.2%</td>\n      <td>217</td>\n      <td>$7,633,507</td>\n      <td>Madagascar: Escape 2 Africa</td>\n      <td>-</td>\n      <td>-</td>\n      <td>-</td>\n      <td>$176,058,413</td>\n      <td>10.6%</td>\n      <td>2008</td>\n    </tr>\n    <tr>\n      <th>36</th>\n      <td>1</td>\n      <td>Fall</td>\n      <td>$1,159,127,393</td>\n      <td>12%</td>\n      <td>265</td>\n      <td>$4,374,065</td>\n      <td>Eagle Eye</td>\n      <td>-</td>\n      <td>-</td>\n      <td>-</td>\n      <td>$93,807,227</td>\n      <td>8.1%</td>\n      <td>2008</td>\n    </tr>\n    <tr>\n      <th>37</th>\n      <td>2</td>\n      <td>Summer</td>\n      <td>$4,150,154,413</td>\n      <td>43.1%</td>\n      <td>350</td>\n      <td>$11,857,584</td>\n      <td>The Dark Knight</td>\n      <td>-</td>\n      <td>-</td>\n      <td>-</td>\n      <td>$506,482,539</td>\n      <td>12.2%</td>\n      <td>2008</td>\n    </tr>\n    <tr>\n      <th>38</th>\n      <td>3</td>\n      <td>Spring</td>\n      <td>$1,093,528,925</td>\n      <td>11.4%</td>\n      <td>237</td>\n      <td>$4,614,046</td>\n      <td>Horton Hears a Who!</td>\n      <td>-</td>\n      <td>-</td>\n      <td>-</td>\n      <td>$148,480,118</td>\n      <td>13.6%</td>\n      <td>2008</td>\n    </tr>\n    <tr>\n      <th>39</th>\n      <td>4</td>\n      <td>Winter</td>\n      <td>$1,531,520,035</td>\n      <td>15.9%</td>\n      <td>205</td>\n      <td>$7,470,829</td>\n      <td>Juno</td>\n      <td>-</td>\n      <td>-</td>\n      <td>-</td>\n      <td>$100,162,309</td>\n      <td>6.5%</td>\n      <td>2008</td>\n    </tr>\n    <tr>\n      <th>40</th>\n      <td>0</td>\n      <td>Holiday Season</td>\n      <td>$2,283,063,082</td>\n      <td>21.6%</td>\n      <td>214</td>\n      <td>$10,668,519</td>\n      <td>Avatar</td>\n      <td>-</td>\n      <td>-</td>\n      <td>-</td>\n      <td>$380,540,297</td>\n      <td>16.7%</td>\n      <td>2009</td>\n    </tr>\n    <tr>\n      <th>41</th>\n      <td>1</td>\n      <td>Fall</td>\n      <td>$1,121,016,865</td>\n      <td>10.6%</td>\n      <td>231</td>\n      <td>$4,852,886</td>\n      <td>Cloudy with a Chance of Meatballs</td>\n      <td>-</td>\n      <td>-</td>\n      <td>-</td>\n      <td>$119,710,831</td>\n      <td>10.7%</td>\n      <td>2009</td>\n    </tr>\n    <tr>\n      <th>42</th>\n      <td>2</td>\n      <td>Summer</td>\n      <td>$4,349,311,966</td>\n      <td>41.1%</td>\n      <td>308</td>\n      <td>$14,121,142</td>\n      <td>Transformers: Revenge of the Fallen</td>\n      <td>-</td>\n      <td>-</td>\n      <td>-</td>\n      <td>$400,757,235</td>\n      <td>9.2%</td>\n      <td>2009</td>\n    </tr>\n    <tr>\n      <th>43</th>\n      <td>3</td>\n      <td>Spring</td>\n      <td>$1,284,430,292</td>\n      <td>12.1%</td>\n      <td>206</td>\n      <td>$6,235,098</td>\n      <td>Monsters vs. Aliens</td>\n      <td>-</td>\n      <td>-</td>\n      <td>-</td>\n      <td>$176,604,542</td>\n      <td>13.7%</td>\n      <td>2009</td>\n    </tr>\n    <tr>\n      <th>44</th>\n      <td>4</td>\n      <td>Winter</td>\n      <td>$1,779,967,719</td>\n      <td>16.8%</td>\n      <td>177</td>\n      <td>$10,056,314</td>\n      <td>Gran Torino</td>\n      <td>-</td>\n      <td>-</td>\n      <td>-</td>\n      <td>$132,691,854</td>\n      <td>7.5%</td>\n      <td>2009</td>\n    </tr>\n    <tr>\n      <th>45</th>\n      <td>0</td>\n      <td>Holiday Season</td>\n      <td>$1,916,622,857</td>\n      <td>18.1%</td>\n      <td>216</td>\n      <td>$8,873,253</td>\n      <td>Harry Potter and the Deathly Hallows: Part 1</td>\n      <td>-</td>\n      <td>-</td>\n      <td>-</td>\n      <td>$285,308,372</td>\n      <td>14.9%</td>\n      <td>2010</td>\n    </tr>\n    <tr>\n      <th>46</th>\n      <td>1</td>\n      <td>Fall</td>\n      <td>$1,093,815,175</td>\n      <td>10.4%</td>\n      <td>248</td>\n      <td>$4,410,545</td>\n      <td>Jackass 3D</td>\n      <td>-</td>\n      <td>-</td>\n      <td>-</td>\n      <td>$105,717,075</td>\n      <td>9.7%</td>\n      <td>2010</td>\n    </tr>\n    <tr>\n      <th>47</th>\n      <td>2</td>\n      <td>Summer</td>\n      <td>$4,236,123,773</td>\n      <td>40.1%</td>\n      <td>320</td>\n      <td>$13,237,886</td>\n      <td>Toy Story 3</td>\n      <td>-</td>\n      <td>-</td>\n      <td>-</td>\n      <td>$409,214,041</td>\n      <td>9.7%</td>\n      <td>2010</td>\n    </tr>\n    <tr>\n      <th>48</th>\n      <td>3</td>\n      <td>Spring</td>\n      <td>$1,637,629,395</td>\n      <td>15.5%</td>\n      <td>219</td>\n      <td>$7,477,759</td>\n      <td>Alice in Wonderland</td>\n      <td>-</td>\n      <td>-</td>\n      <td>-</td>\n      <td>$330,145,228</td>\n      <td>20.2%</td>\n      <td>2010</td>\n    </tr>\n    <tr>\n      <th>49</th>\n      <td>4</td>\n      <td>Winter</td>\n      <td>$1,562,819,621</td>\n      <td>14.8%</td>\n      <td>175</td>\n      <td>$8,930,397</td>\n      <td>Avatar</td>\n      <td>-</td>\n      <td>-</td>\n      <td>-</td>\n      <td>$331,949,045</td>\n      <td>21.2%</td>\n      <td>2010</td>\n    </tr>\n  </tbody>\n</table>\n</div>"
     },
     "metadata": {},
     "execution_count": 8
    }
   ],
   "source": [
    "imdb_df.head(50)"
   ]
  },
  {
   "cell_type": "code",
   "execution_count": 9,
   "metadata": {},
   "outputs": [],
   "source": [
    "imdb_df[\"cum_gross\"] = imdb_df[\"cum_gross\"].replace('[\\$\\,\\.]',\"\",regex=True).astype(np.int64)\n",
    "imdb_df[\"average\"] = imdb_df[\"average\"].replace('[\\$\\,\\.]',\"\",regex=True).astype(np.int64)\n",
    "imdb_df[\"gross\"] = imdb_df[\"gross\"].replace('[\\$\\,\\.]',\"\",regex=True).astype(np.int64)"
   ]
  },
  {
   "cell_type": "code",
   "execution_count": 10,
   "metadata": {},
   "outputs": [
    {
     "output_type": "execute_result",
     "data": {
      "text/plain": [
       "   index          season   cum_gross pct_of_year  releases   average  \\\n",
       "0      0  Holiday Season  1738682033       21.4%       134  12975239   \n",
       "1      1            Fall   801380716        9.9%       123   6515290   \n",
       "2      2          Summer  3355826181       41.4%       185  18139600   \n",
       "3      3          Spring  1014897662       12.5%       124   8184658   \n",
       "4      4          Winter  1205276250       14.9%       108  11159965   \n",
       "\n",
       "                         num_one_release genre budget runtime      gross  \\\n",
       "0  Harry Potter and the Sorcerer's Stone     -      -       -  294474009   \n",
       "1                           Training Day     -      -       -   66517276   \n",
       "2                                  Shrek     -      -       -  263046762   \n",
       "3                               Spy Kids     -      -       -   94595820   \n",
       "4                               Hannibal     -      -       -  132732653   \n",
       "\n",
       "  pct_of_total  year  \n",
       "0        16.9%  2001  \n",
       "1         8.3%  2001  \n",
       "2         7.8%  2001  \n",
       "3         9.3%  2001  \n",
       "4          11%  2001  "
      ],
      "text/html": "<div>\n<style scoped>\n    .dataframe tbody tr th:only-of-type {\n        vertical-align: middle;\n    }\n\n    .dataframe tbody tr th {\n        vertical-align: top;\n    }\n\n    .dataframe thead th {\n        text-align: right;\n    }\n</style>\n<table border=\"1\" class=\"dataframe\">\n  <thead>\n    <tr style=\"text-align: right;\">\n      <th></th>\n      <th>index</th>\n      <th>season</th>\n      <th>cum_gross</th>\n      <th>pct_of_year</th>\n      <th>releases</th>\n      <th>average</th>\n      <th>num_one_release</th>\n      <th>genre</th>\n      <th>budget</th>\n      <th>runtime</th>\n      <th>gross</th>\n      <th>pct_of_total</th>\n      <th>year</th>\n    </tr>\n  </thead>\n  <tbody>\n    <tr>\n      <th>0</th>\n      <td>0</td>\n      <td>Holiday Season</td>\n      <td>1738682033</td>\n      <td>21.4%</td>\n      <td>134</td>\n      <td>12975239</td>\n      <td>Harry Potter and the Sorcerer's Stone</td>\n      <td>-</td>\n      <td>-</td>\n      <td>-</td>\n      <td>294474009</td>\n      <td>16.9%</td>\n      <td>2001</td>\n    </tr>\n    <tr>\n      <th>1</th>\n      <td>1</td>\n      <td>Fall</td>\n      <td>801380716</td>\n      <td>9.9%</td>\n      <td>123</td>\n      <td>6515290</td>\n      <td>Training Day</td>\n      <td>-</td>\n      <td>-</td>\n      <td>-</td>\n      <td>66517276</td>\n      <td>8.3%</td>\n      <td>2001</td>\n    </tr>\n    <tr>\n      <th>2</th>\n      <td>2</td>\n      <td>Summer</td>\n      <td>3355826181</td>\n      <td>41.4%</td>\n      <td>185</td>\n      <td>18139600</td>\n      <td>Shrek</td>\n      <td>-</td>\n      <td>-</td>\n      <td>-</td>\n      <td>263046762</td>\n      <td>7.8%</td>\n      <td>2001</td>\n    </tr>\n    <tr>\n      <th>3</th>\n      <td>3</td>\n      <td>Spring</td>\n      <td>1014897662</td>\n      <td>12.5%</td>\n      <td>124</td>\n      <td>8184658</td>\n      <td>Spy Kids</td>\n      <td>-</td>\n      <td>-</td>\n      <td>-</td>\n      <td>94595820</td>\n      <td>9.3%</td>\n      <td>2001</td>\n    </tr>\n    <tr>\n      <th>4</th>\n      <td>4</td>\n      <td>Winter</td>\n      <td>1205276250</td>\n      <td>14.9%</td>\n      <td>108</td>\n      <td>11159965</td>\n      <td>Hannibal</td>\n      <td>-</td>\n      <td>-</td>\n      <td>-</td>\n      <td>132732653</td>\n      <td>11%</td>\n      <td>2001</td>\n    </tr>\n  </tbody>\n</table>\n</div>"
     },
     "metadata": {},
     "execution_count": 10
    }
   ],
   "source": [
    "imdb_df.head()"
   ]
  },
  {
   "cell_type": "code",
   "execution_count": 11,
   "metadata": {},
   "outputs": [
    {
     "output_type": "execute_result",
     "data": {
      "text/plain": [
<<<<<<< HEAD
       "<pymongo.results.InsertManyResult at 0x7fb3e3327e48>"
=======
       "<pymongo.results.InsertManyResult at 0x7fb52fefa508>"
>>>>>>> fdfb6bfa4abbce06be9172a2b44be6b0eb971074
      ]
     },
     "metadata": {},
     "execution_count": 11
    }
   ],
   "source": [
    "db.collection.insert_many(imdb_df.to_dict('records'))"
   ]
  },
  {
   "cell_type": "code",
   "execution_count": 12,
   "metadata": {},
   "outputs": [],
   "source": [
    "sum_df = imdb_df.groupby(['season']).sum()"
   ]
  },
  {
   "cell_type": "code",
   "execution_count": 13,
   "metadata": {},
   "outputs": [],
   "source": [
    "def format(x):\n",
    "        return \"${0:,.0f}\".format(x)\n",
    "    \n",
    "sum_df['cum_gross'] = sum_df['cum_gross'].apply(format)\n",
    "sum_df['gross'] = sum_df['gross'].apply(format)\n",
    "sum_df['average'] = sum_df['average'].apply(format)"
   ]
  },
  {
   "cell_type": "code",
   "execution_count": 14,
   "metadata": {},
   "outputs": [
    {
     "output_type": "execute_result",
     "data": {
      "text/plain": [
       "                index        cum_gross  releases       average           gross\n",
       "season                                                                        \n",
       "Fall               20  $21,243,273,891      5054   $83,497,912  $2,696,163,396\n",
       "Holiday Season      0  $38,269,909,440      4562  $166,124,494  $6,374,829,000\n",
       "Spring             60  $28,616,867,596      4635  $128,163,021  $4,804,844,534\n",
       "Summer             40  $78,360,402,361      6723  $229,192,669  $8,266,168,399\n",
       "Winter             81  $29,360,349,014      3966  $155,753,235  $3,421,305,934"
      ],
      "text/html": "<div>\n<style scoped>\n    .dataframe tbody tr th:only-of-type {\n        vertical-align: middle;\n    }\n\n    .dataframe tbody tr th {\n        vertical-align: top;\n    }\n\n    .dataframe thead th {\n        text-align: right;\n    }\n</style>\n<table border=\"1\" class=\"dataframe\">\n  <thead>\n    <tr style=\"text-align: right;\">\n      <th></th>\n      <th>index</th>\n      <th>cum_gross</th>\n      <th>releases</th>\n      <th>average</th>\n      <th>gross</th>\n    </tr>\n    <tr>\n      <th>season</th>\n      <th></th>\n      <th></th>\n      <th></th>\n      <th></th>\n      <th></th>\n    </tr>\n  </thead>\n  <tbody>\n    <tr>\n      <th>Fall</th>\n      <td>20</td>\n      <td>$21,243,273,891</td>\n      <td>5054</td>\n      <td>$83,497,912</td>\n      <td>$2,696,163,396</td>\n    </tr>\n    <tr>\n      <th>Holiday Season</th>\n      <td>0</td>\n      <td>$38,269,909,440</td>\n      <td>4562</td>\n      <td>$166,124,494</td>\n      <td>$6,374,829,000</td>\n    </tr>\n    <tr>\n      <th>Spring</th>\n      <td>60</td>\n      <td>$28,616,867,596</td>\n      <td>4635</td>\n      <td>$128,163,021</td>\n      <td>$4,804,844,534</td>\n    </tr>\n    <tr>\n      <th>Summer</th>\n      <td>40</td>\n      <td>$78,360,402,361</td>\n      <td>6723</td>\n      <td>$229,192,669</td>\n      <td>$8,266,168,399</td>\n    </tr>\n    <tr>\n      <th>Winter</th>\n      <td>81</td>\n      <td>$29,360,349,014</td>\n      <td>3966</td>\n      <td>$155,753,235</td>\n      <td>$3,421,305,934</td>\n    </tr>\n  </tbody>\n</table>\n</div>"
     },
     "metadata": {},
     "execution_count": 14
    }
   ],
   "source": [
    "sum_df"
   ]
  },
  {
   "cell_type": "code",
   "execution_count": 15,
   "metadata": {},
   "outputs": [
    {
     "output_type": "execute_result",
     "data": {
      "text/plain": [
       "           season  index        cum_gross  releases       average  \\\n",
       "0            Fall     20  $21,243,273,891      5054   $83,497,912   \n",
       "1  Holiday Season      0  $38,269,909,440      4562  $166,124,494   \n",
       "2          Spring     60  $28,616,867,596      4635  $128,163,021   \n",
       "3          Summer     40  $78,360,402,361      6723  $229,192,669   \n",
       "4          Winter     81  $29,360,349,014      3966  $155,753,235   \n",
       "\n",
       "            gross  \n",
       "0  $2,696,163,396  \n",
       "1  $6,374,829,000  \n",
       "2  $4,804,844,534  \n",
       "3  $8,266,168,399  \n",
       "4  $3,421,305,934  "
      ],
      "text/html": "<div>\n<style scoped>\n    .dataframe tbody tr th:only-of-type {\n        vertical-align: middle;\n    }\n\n    .dataframe tbody tr th {\n        vertical-align: top;\n    }\n\n    .dataframe thead th {\n        text-align: right;\n    }\n</style>\n<table border=\"1\" class=\"dataframe\">\n  <thead>\n    <tr style=\"text-align: right;\">\n      <th></th>\n      <th>season</th>\n      <th>index</th>\n      <th>cum_gross</th>\n      <th>releases</th>\n      <th>average</th>\n      <th>gross</th>\n    </tr>\n  </thead>\n  <tbody>\n    <tr>\n      <th>0</th>\n      <td>Fall</td>\n      <td>20</td>\n      <td>$21,243,273,891</td>\n      <td>5054</td>\n      <td>$83,497,912</td>\n      <td>$2,696,163,396</td>\n    </tr>\n    <tr>\n      <th>1</th>\n      <td>Holiday Season</td>\n      <td>0</td>\n      <td>$38,269,909,440</td>\n      <td>4562</td>\n      <td>$166,124,494</td>\n      <td>$6,374,829,000</td>\n    </tr>\n    <tr>\n      <th>2</th>\n      <td>Spring</td>\n      <td>60</td>\n      <td>$28,616,867,596</td>\n      <td>4635</td>\n      <td>$128,163,021</td>\n      <td>$4,804,844,534</td>\n    </tr>\n    <tr>\n      <th>3</th>\n      <td>Summer</td>\n      <td>40</td>\n      <td>$78,360,402,361</td>\n      <td>6723</td>\n      <td>$229,192,669</td>\n      <td>$8,266,168,399</td>\n    </tr>\n    <tr>\n      <th>4</th>\n      <td>Winter</td>\n      <td>81</td>\n      <td>$29,360,349,014</td>\n      <td>3966</td>\n      <td>$155,753,235</td>\n      <td>$3,421,305,934</td>\n    </tr>\n  </tbody>\n</table>\n</div>"
     },
     "metadata": {},
     "execution_count": 15
    }
   ],
   "source": [
    "sum_df = sum_df.reset_index()\n",
    "sum_df"
   ]
  },
  {
   "cell_type": "code",
   "execution_count": 16,
   "metadata": {},
   "outputs": [
    {
     "output_type": "execute_result",
     "data": {
      "text/plain": [
<<<<<<< HEAD
       "<pymongo.results.InsertManyResult at 0x7fb3e31f0ec8>"
=======
       "<pymongo.results.InsertManyResult at 0x7fb532732208>"
>>>>>>> fdfb6bfa4abbce06be9172a2b44be6b0eb971074
      ]
     },
     "metadata": {},
     "execution_count": 16
    }
   ],
   "source": [
    "db.sum.insert_many(sum_df.to_dict('records'))"
   ]
  },
  {
   "cell_type": "code",
   "execution_count": null,
   "metadata": {},
   "outputs": [],
   "source": []
  }
 ],
 "metadata": {
  "kernelspec": {
   "name": "python3610jvsc74a57bd08f61e211dd1865bd21a2a9c76d36e3660e013a6e41491ede5f88f07122ee9440",
   "display_name": "Python 3.6.10 64-bit ('PythonData': conda)"
  },
  "language_info": {
   "codemirror_mode": {
    "name": "ipython",
    "version": 3
   },
   "file_extension": ".py",
   "mimetype": "text/x-python",
   "name": "python",
   "nbconvert_exporter": "python",
   "pygments_lexer": "ipython3",
   "version": "3.6.10"
  }
 },
 "nbformat": 4,
 "nbformat_minor": 4
}